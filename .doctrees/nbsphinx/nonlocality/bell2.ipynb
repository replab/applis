{
 "cells": [
  {
   "cell_type": "markdown",
   "id": "5aa92844",
   "metadata": {},
   "source": [
    "# Symmetries in Bell nonlocality, part 2\n",
    "\n",
    "We describe the relabelings in the CHSH scenario, and decompose their action on probability distributions $P(ab|xy)$, now using an abstract group construction.\n",
    "\n",
    "We identify those relabelings with a [wreath product](https://en.wikipedia.org/wiki/Wreath_product) construction, which RepLAB supports.\n",
    "This topic guide can also be considered as a (small) introduction to the group constructions available in RepLAB."
   ]
  },
  {
   "cell_type": "markdown",
   "id": "2e205294",
   "metadata": {},
   "source": [
    "Before using *RepLAB* commands, we must first initialize the library:"
   ]
  },
  {
   "cell_type": "code",
   "execution_count": 1,
   "id": "08af5223",
   "metadata": {
    "execution": {
     "iopub.execute_input": "2021-12-28T14:14:44.251037Z",
     "iopub.status.busy": "2021-12-28T14:14:44.250576Z",
     "iopub.status.idle": "2021-12-28T14:14:44.273014Z",
     "shell.execute_reply": "2021-12-28T14:14:44.272601Z"
    }
   },
   "outputs": [
    {
     "name": "stdout",
     "output_type": "stream",
     "text": [
      "warning: addpath: /github/workspace/generated/sphinx/nonlocality/../../external/replab: No such file or directory\r\n"
     ]
    },
    {
     "name": "stdout",
     "output_type": "stream",
     "text": [
      "error: 'replab_init' undefined near line 1, column 1\r\n"
     ]
    }
   ],
   "source": [
    "addpath([pwd, '/../../external/replab']);\n",
    "replab_init('verbose', 0);"
   ]
  },
  {
   "cell_type": "markdown",
   "id": "f16250eb",
   "metadata": {},
   "source": [
    "## Only outputs\n",
    "\n",
    "Outputs are binary, so the relabelling of outputs is the symmetric group\n",
    "of domain size 2."
   ]
  },
  {
   "cell_type": "code",
   "execution_count": 2,
   "id": "546bc087",
   "metadata": {
    "execution": {
     "iopub.execute_input": "2021-12-28T14:14:44.275337Z",
     "iopub.status.busy": "2021-12-28T14:14:44.274968Z",
     "iopub.status.idle": "2021-12-28T14:14:44.283670Z",
     "shell.execute_reply": "2021-12-28T14:14:44.283980Z"
    }
   },
   "outputs": [
    {
     "name": "stdout",
     "output_type": "stream",
     "text": [
      "error: 'replab' undefined near line 1, column 1\r\n"
     ]
    }
   ],
   "source": [
    "outputGroup = replab.S(2)"
   ]
  },
  {
   "cell_type": "markdown",
   "id": "d45597e4",
   "metadata": {},
   "source": [
    "Now, an element of `outputGroup` is just a permutation of the two outputs:"
   ]
  },
  {
   "cell_type": "code",
   "execution_count": 3,
   "id": "b26b4eba",
   "metadata": {
    "execution": {
     "iopub.execute_input": "2021-12-28T14:14:44.286238Z",
     "iopub.status.busy": "2021-12-28T14:14:44.285878Z",
     "iopub.status.idle": "2021-12-28T14:14:44.294576Z",
     "shell.execute_reply": "2021-12-28T14:14:44.294234Z"
    }
   },
   "outputs": [
    {
     "name": "stdout",
     "output_type": "stream",
     "text": [
      "error: 'outputGroup' undefined near line 1, column 1\r\n"
     ]
    }
   ],
   "source": [
    "outputGroup.elements"
   ]
  },
  {
   "cell_type": "markdown",
   "id": "ca81f792",
   "metadata": {},
   "source": [
    "The representation of this relabelling on the probabilities $P(a)$ is then the defining representation"
   ]
  },
  {
   "cell_type": "code",
   "execution_count": 4,
   "id": "d12853eb",
   "metadata": {
    "execution": {
     "iopub.execute_input": "2021-12-28T14:14:44.296837Z",
     "iopub.status.busy": "2021-12-28T14:14:44.296473Z",
     "iopub.status.idle": "2021-12-28T14:14:44.308235Z",
     "shell.execute_reply": "2021-12-28T14:14:44.307900Z"
    }
   },
   "outputs": [
    {
     "name": "stdout",
     "output_type": "stream",
     "text": [
      "error: 'outputGroup' undefined near line 1, column 1\r\n"
     ]
    },
    {
     "name": "stdout",
     "output_type": "stream",
     "text": [
      "error: 'outputRep' undefined near line 1, column 1\r\n"
     ]
    }
   ],
   "source": [
    "outputRep = outputGroup.naturalRep\n",
    "outputRep.image([2 1])"
   ]
  },
  {
   "cell_type": "markdown",
   "id": "84cf936d",
   "metadata": {},
   "source": [
    "## Inputs and outputs\n",
    "\n",
    "In the CHSH scenario, each party has two binary measurements. Therefore,\n",
    "a copy of $S_2$ acts on the outputs of the first measurement, and a second\n",
    "copy of $S_2$ acting on the outputs of the second measurement, while\n",
    "another copy of $S_2$ permutes the choice of measurement (input).\n",
    "\n",
    "This is described by the wreath product of $S_2$ by $S_2$."
   ]
  },
  {
   "cell_type": "code",
   "execution_count": 5,
   "id": "f6a9007d",
   "metadata": {
    "execution": {
     "iopub.execute_input": "2021-12-28T14:14:44.310575Z",
     "iopub.status.busy": "2021-12-28T14:14:44.310211Z",
     "iopub.status.idle": "2021-12-28T14:14:44.322388Z",
     "shell.execute_reply": "2021-12-28T14:14:44.322077Z"
    }
   },
   "outputs": [
    {
     "name": "stdout",
     "output_type": "stream",
     "text": [
      "error: 'replab' undefined near line 1, column 1\r\n"
     ]
    },
    {
     "name": "stdout",
     "output_type": "stream",
     "text": [
      "error: 'inputGroup' undefined near line 1, column 1\r\n"
     ]
    }
   ],
   "source": [
    "inputGroup = replab.S(2)\n",
    "ioGroup = inputGroup.wreathProduct(outputGroup)"
   ]
  },
  {
   "cell_type": "markdown",
   "id": "b2e4f9e6",
   "metadata": {},
   "source": [
    "Elements of `ioGroup` are now composed of a permutation of inputs, and the conditional output permutation for $x=1,2$:"
   ]
  },
  {
   "cell_type": "code",
   "execution_count": 6,
   "id": "fdc1527d",
   "metadata": {
    "execution": {
     "iopub.execute_input": "2021-12-28T14:14:44.324568Z",
     "iopub.status.busy": "2021-12-28T14:14:44.324218Z",
     "iopub.status.idle": "2021-12-28T14:14:44.332289Z",
     "shell.execute_reply": "2021-12-28T14:14:44.331966Z"
    }
   },
   "outputs": [
    {
     "name": "stdout",
     "output_type": "stream",
     "text": [
      "error: 'ioGroup' undefined near line 1, column 1\r\n"
     ]
    }
   ],
   "source": [
    "ioGroup.elements"
   ]
  },
  {
   "cell_type": "markdown",
   "id": "0fb7a2b1",
   "metadata": {},
   "source": [
    "The representation on the conditional probility $P(a|x)$ is the imprimitive representation,\n",
    "given that we use the defining representation\n",
    "for the inner group"
   ]
  },
  {
   "cell_type": "code",
   "execution_count": 7,
   "id": "92bcc732",
   "metadata": {
    "execution": {
     "iopub.execute_input": "2021-12-28T14:14:44.334425Z",
     "iopub.status.busy": "2021-12-28T14:14:44.334061Z",
     "iopub.status.idle": "2021-12-28T14:14:44.342966Z",
     "shell.execute_reply": "2021-12-28T14:14:44.342646Z"
    }
   },
   "outputs": [
    {
     "name": "stdout",
     "output_type": "stream",
     "text": [
      "error: 'ioGroup' undefined near line 1, column 1\r\n"
     ]
    }
   ],
   "source": [
    "ioRep = ioGroup.imprimitiveRep(outputRep);"
   ]
  },
  {
   "cell_type": "code",
   "execution_count": 8,
   "id": "f3a8b586",
   "metadata": {
    "execution": {
     "iopub.execute_input": "2021-12-28T14:14:44.345119Z",
     "iopub.status.busy": "2021-12-28T14:14:44.344756Z",
     "iopub.status.idle": "2021-12-28T14:14:44.353170Z",
     "shell.execute_reply": "2021-12-28T14:14:44.353455Z"
    }
   },
   "outputs": [
    {
     "name": "stdout",
     "output_type": "stream",
     "text": [
      "error: 'ioRep' undefined near line 1, column 1\r\n"
     ]
    }
   ],
   "source": [
    "ioRep.image({[2 1] {[1 2] [1 2]}}) % permuting only the inputs"
   ]
  },
  {
   "cell_type": "code",
   "execution_count": 9,
   "id": "4a869d47",
   "metadata": {
    "execution": {
     "iopub.execute_input": "2021-12-28T14:14:44.355746Z",
     "iopub.status.busy": "2021-12-28T14:14:44.355381Z",
     "iopub.status.idle": "2021-12-28T14:14:44.363581Z",
     "shell.execute_reply": "2021-12-28T14:14:44.363912Z"
    }
   },
   "outputs": [
    {
     "name": "stdout",
     "output_type": "stream",
     "text": [
      "error: 'ioRep' undefined near line 1, column 1\r\n"
     ]
    }
   ],
   "source": [
    "ioRep.image({[1 2] {[2 1] [1 2]}}) % permuting only the outputs, conditioned on $x=1$"
   ]
  }
 ],
 "metadata": {
  "jupytext": {
   "cell_metadata_filter": "-all",
   "main_language": "matlab",
   "notebook_metadata_filter": "-all",
   "text_representation": {
    "extension": ".m",
    "format_name": "light"
   }
  },
  "language_info": {
   "file_extension": ".m",
   "help_links": [
    {
     "text": "GNU Octave",
     "url": "https://www.gnu.org/software/octave/support.html"
    },
    {
     "text": "Octave Kernel",
     "url": "https://github.com/Calysto/octave_kernel"
    },
    {
     "text": "MetaKernel Magics",
     "url": "https://metakernel.readthedocs.io/en/latest/source/README.html"
    }
   ],
   "mimetype": "text/x-octave",
   "name": "octave",
   "version": "6.2.0"
  }
 },
 "nbformat": 4,
 "nbformat_minor": 5
}
